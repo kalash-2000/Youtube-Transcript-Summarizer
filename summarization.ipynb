//Run this code in google colab as pipelines work very well over there

!pip install youtube_transcript_api
from youtube_transcript_api import YouTubeTranscriptApi as yta
!pip install transformers torch sentencepiece
from transformers import pipeline

# using pipeline API for summarization task
summarization = pipeline("summarization")

print('Please Enter the link to the YouTube Video')
link = input()

a=link.find('=')
b=link.find('&')
c=link[a+1:b]

vid_id = c
data=yta.get_transcript(vid_id)

transcript=''
for value in data:
    for key,val in value.items():
        if key=='text':
            transcript+=val + " "

l1=transcript.splitlines()
global final_tra1
final_tra1=" ".join(l1)

original_text = final_tra1
summary_text = summarization(original_text)[0]['summary_text']
print("Summary:", summary_text)

with open("summary.txt", "w") as text_file:
    text_file.write(summary_text)
//download the above summary.txt file and give it as an input to jupyter code
